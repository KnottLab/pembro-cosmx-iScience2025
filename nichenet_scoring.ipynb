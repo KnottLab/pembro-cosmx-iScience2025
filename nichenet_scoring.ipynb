{
 "cells": [
  {
   "cell_type": "code",
   "execution_count": null,
   "id": "31870c66-8db6-4616-b700-6e149c6717e8",
   "metadata": {},
   "outputs": [],
   "source": [
    "import pandas as pd\n",
    "import numpy as np\n",
    "from pqdm.processes import pqdm\n",
    "from scipy.stats import pearsonr"
   ]
  },
  {
   "cell_type": "code",
   "execution_count": null,
   "id": "8f3ab406-b7c8-403e-882d-48f3af96b7f0",
   "metadata": {
    "tags": []
   },
   "outputs": [],
   "source": [
    "\"\"\"\n",
    "Helper to get_ligand_activity()\n",
    "\"\"\"\n",
    "def get_binary_sig(sig,background):\n",
    "    return [1 if x in sig else 0 for x in background]\n",
    "\n",
    "\"\"\"\n",
    "Helper to call_ligand_activity()\n",
    "\"\"\"\n",
    "def get_ligand_activity(sig,potentials,background):\n",
    "    binary_sig = get_binary_sig(sig,background)\n",
    "    return pearsonr(binary_sig,potentials)[0]\n",
    "\n",
    "\"\"\"\n",
    "Helper to get_ligand_act_df()\n",
    "\"\"\"\n",
    "def call_ligand_activity(ligand,cond,sig):\n",
    "    potentials = ltm.loc[:,ligand]\n",
    "    la_score = get_ligand_activity(sig,potentials)\n",
    "    return([cond,ligand,la_score])\n",
    "\n",
    "\"\"\"\n",
    "Calculate the ligand activity score of each condition's target genes.\n",
    "    \n",
    "Parameters:\n",
    "-----------\n",
    "cond_sig_d : dictionary\n",
    "    Mapping between conditions (str) and target genes (list)\n",
    "\n",
    "Returns:\n",
    "--------\n",
    "pd.DataFrame\n",
    "    DataFrame with condition, ligand, and ligand activity score\n",
    "\"\"\"\n",
    "def get_ligand_act_df(cond_sig_d):\n",
    "    args = []\n",
    "    for cond,sig in cond_sig_d.items():\n",
    "        for l in ltm.columns:\n",
    "            args.append({'ligand':l,'condition':cond,'sig':sig})\n",
    "    la_df = pqdm(args,call_ligand_activity,argument_type='kwargs',n_jobs=6)\n",
    "    la_df = pd.DataFrame(la_df,columns=['condition','ligand','score'])\n",
    "    \n",
    "    return la_df"
   ]
  },
  {
   "cell_type": "code",
   "execution_count": null,
   "id": "4f19f3da-e97c-487e-ad44-9c539aff9271",
   "metadata": {},
   "outputs": [],
   "source": [
    "# cosmx_panel.npy is a list of genes used in this study\n",
    "# NicheNet_ligand_target_matrix.csv is the weight matrix describing associations between ligands and target genes\n",
    "# described in Browaeys, Saelens, and Saeys (2019)\n",
    "cosmx_panel = np.load('cosmx_panel.npy',allow_pickle=True)\n",
    "ltm = pd.read_csv('NicheNet_ligand_target_matrix.csv',index_col=0)\n",
    "\n",
    "targets_in_cos = list(set(ltm.index).intersection(set(cosmx_panel)))\n",
    "ligands_in_cos = list(set(ltm.columns).intersection(set(cosmx_panel)))\n",
    "ltm = ltm.loc[targets_in_cos,ligands_in_cos]"
   ]
  },
  {
   "cell_type": "code",
   "execution_count": null,
   "id": "3cf73a2e-7ec4-4f2f-b95c-799a061b207a",
   "metadata": {},
   "outputs": [],
   "source": [
    "# cond_sig_d is a mapping between a condition and target genes\n",
    "# for example, the conditions can be every cell type in every zone at baseline\n",
    "# and the genes are those that are differential between the cell type in the given zone and the rest of the zones\n",
    "cond_sig_d = np.load('cond_sig_d.npy',allow_pickle=True).item()"
   ]
  },
  {
   "cell_type": "code",
   "execution_count": null,
   "id": "8a16e2b4-51d4-4bf8-a09b-8d28b6891215",
   "metadata": {},
   "outputs": [],
   "source": [
    "la_df = get_ligand_act_df(cond_sig_d)"
   ]
  }
 ],
 "metadata": {
  "kernelspec": {
   "display_name": "Python 3 (ipykernel)",
   "language": "python",
   "name": "python3"
  },
  "language_info": {
   "codemirror_mode": {
    "name": "ipython",
    "version": 3
   },
   "file_extension": ".py",
   "mimetype": "text/x-python",
   "name": "python",
   "nbconvert_exporter": "python",
   "pygments_lexer": "ipython3",
   "version": "3.9.7"
  }
 },
 "nbformat": 4,
 "nbformat_minor": 5
}
